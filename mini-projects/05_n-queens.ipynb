{
 "cells": [
  {
   "cell_type": "markdown",
   "metadata": {},
   "source": [
    "# N-Queens Puzzle\n",
    "\n",
    ">The eight queens puzzle is the problem of placing eight chess queens on an 8×8 chessboard so that no two queens threaten each other; thus, a solution requires that no two queens share the same row, column, or diagonal. The eight queens puzzle is an example of the more general n queens problem of placing n non-attacking queens on an n×n chessboard, for which solutions exist for all natural numbers n with the exception of n=2 and n=3. [Source: Wikipedia](https://en.wikipedia.org/wiki/Eight_queens_puzzle)\n",
    "\n",
    "This exercises teaches how to solve the N-Queens Puzzle with populations of spiking neurons.\n",
    "\n",
    "**Further Reading**: Jonke, Z., Habenschuss, S., & Maass, W. (2016). Solving constraint satisfaction problems with networks of spiking neurons. Frontiers in neuroscience, 10, 118. https://www.frontiersin.org/articles/10.3389/fnins.2016.00118/full"
   ]
  },
  {
   "cell_type": "code",
   "execution_count": 2,
   "metadata": {},
   "outputs": [],
   "source": [
    "import numpy as np\n",
    "from brian2 import *"
   ]
  },
  {
   "cell_type": "markdown",
   "metadata": {},
   "source": [
    "## Exercise 1 - Concept\n",
    "The goal of this exercise is to connect the chess problem to the simulation of neural populations and to figure out the neural concepts that solve the N-Queens puzzle.\n",
    "\n",
    "Thinking of the following ingredients from chess:\n",
    "- $N\\times N$ checkerboard,\n",
    "- $N$ Queens,\n",
    "- possible moves i.e. threats of a Queen,\n",
    "\n",
    "and the following ingredients from a neural simulator:\n",
    "\n",
    "- $N^2$ integrate and fire neurons,\n",
    "- arbitrary excitatory synapses between neurons,\n",
    "- arbitrary inhibitory synapses between neurons,\n",
    "- Poisson neurons.\n",
    "\n",
    "\n",
    "**Combine all ingredients to find a neural concept that would solve the N-Queens Puzzle. The questions below might be helpful. Don't worry: if you can't think of a concept yet, just move on to the next task.**\n",
    "\n",
    "\n",
    "- What could be represented by the integrate and fire neurons?\n",
    "- What are the Poisson neurons good for?\n",
    "- What role plays the activity of the neurons?\n",
    "- How to assemble excitatory connections?\n",
    "- How to assemble inhibitory connections? To which rules in chess do they transfer?"
   ]
  },
  {
   "cell_type": "markdown",
   "metadata": {},
   "source": [
    "## Exercise 2 - Setting Things Up"
   ]
  },
  {
   "cell_type": "markdown",
   "metadata": {},
   "source": [
    "1. Using [brian2](https://brian2.readthedocs.io/en/stable/), create the population of $N^2$ integrate and fire neurons. Use this line of code: \n",
    "```python\n",
    "board = NeuronGroup(N**2,\n",
    "                    model=\"\"\"???\"\"\",\n",
    "                    threshold='???',\n",
    "                    reset='???',\n",
    "                    refractory='(1 + rand())*ms',\n",
    "                    method='exact')\n",
    "```\n",
    "To keep it simple and conceptual, let them follow the dynamics:\n",
    "$$\\dot{V}=-\\frac{V}{\\tau}$$\n",
    "$$V \\leftarrow 0 \\text{ if } V> 1$$\n",
    "Note: if you're not familiar with brian2's NeuronGroups yet, you might find it useful to check out the [official tutorial on neurons](https://brian2.readthedocs.io/en/stable/resources/tutorials/1-intro-to-brian-neurons.html)."
   ]
  },
  {
   "cell_type": "markdown",
   "metadata": {},
   "source": [
    "2. Initialize the membrane potential with uniformly distributed values between 0 and 1. Hints: You can access the state variable of the neuron group as `board.v`. `\"rand()\"` represents a uniform distribution between 0 and 1. The exact line of code is explained in the [official tutorial on neurons](https://brian2.readthedocs.io/en/stable/resources/tutorials/1-intro-to-brian-neurons.html)."
   ]
  },
  {
   "cell_type": "markdown",
   "metadata": {},
   "source": [
    "3. Create a `PoissonGroup` of size $N^2$ that is supposed to stochastically drive the other neurons with a rate of 300 Hz. Hint: Type `PoissonGroup??` to find out how to specify the rate parameter. Also check out the [official tutorial on simulations](http://localhost:8888/notebooks/notebooks/b3-intro-to-brian-simulations.ipynb)."
   ]
  },
  {
   "cell_type": "markdown",
   "metadata": {},
   "source": [
    "4. Connect the PoissonGroup to the integrate and fire neurons such that each neuron receives stochastic input, independently from the other neurons. `Synapses` requires the parameter `on_pre`(synaptic spike). Choose `v+=noise_weight` with noise_weight=0.3. Hint: What does `i==j` specify? Check out the [official tutorial on synapses](https://brian2.readthedocs.io/en/stable/resources/tutorials/2-intro-to-brian-synapses.html)."
   ]
  },
  {
   "cell_type": "markdown",
   "metadata": {},
   "source": [
    "5. Similarly, create self-excitatory connections with `exc_weight+=10*noise_weight`."
   ]
  },
  {
   "cell_type": "markdown",
   "metadata": {},
   "source": [
    "## Exercise 3 - The Queen Moves\n",
    "**Spoiler to Exercise 1 ahead.**\n",
    "\n",
    "The key to this problem are the moves of the Queen and how they transfer to inhibitory synaptic connections. In fact, if we would rearrange the $N^2$ neurons to an $N\\times N$ grid, we want that all neurons inhibit other neurons with the pattern of possible queen moves. Since all neurons are also self-excitatory one can think of it as: once a neuron becomes a queen through noisy excitation, it stays a queen. Then the pattern of inhibitory activity ensures the constrains needed to solve the puzzle and eventually we can read the solution from the activity of the neurons. \n",
    "\n",
    "Above we have learned that we can connect the neurons via synapses by specifying logic rules. Synapses.connect() also takes single presynaptic indices `i` and arrays of postsynaptic indices `j` as parameter. Hence, lets try to calculate all neurons `j` that are supposed to be inhibited by presynaptic neuron `i` if we arrange the $N^2$ neurons to a grid.\n",
    "\n",
    "1. First read the docstring and then complete the function `get_queen_moves(pre_idx, pop_size)`.\n",
    "```Python\n",
    "def get_queen_moves(pre_idx, pop_size):\n",
    "    \"\"\"Returns a boolean mask of Queen moves on a grid.\n",
    "    \n",
    "    Args:\n",
    "        pre_idx (int): index of presynaptic neuron (Queen).\n",
    "        pop_size (int): number of neurons N**2 (Squares).\n",
    "    \n",
    "    Returns:\n",
    "        np.array: boolean mask of the Queen's moves on a chess board.\n",
    "        \n",
    "    Note: True stands for inhibitory connection, False for no connection.\n",
    "    \"\"\"\n",
    "    N = int(np.sqrt(pop_size))\n",
    "    # pre_idx -> i, j: row and column index of pre-neuron on grid\n",
    "    i, j = np.where(np.arange(N*N).reshape(N, -1) == pre_idx) \n",
    "    i, j = i[0], j[0]\n",
    "    mask = np.zeros([???, ???], dtype=bool)\n",
    "    # iterate over all rows\n",
    "    for row in range(N):\n",
    "        # Queen inhibits/ threats along rows\n",
    "        if row == ???:\n",
    "            mask[row, :] = ???\n",
    "        for column in range(N):\n",
    "            # Queen inhibits/ threats along diagonals\n",
    "            if abs(row-i)==abs(column-j):\n",
    "                mask[row, column] = True\n",
    "    # iterate over all columns\n",
    "    for column in range(N):\n",
    "        # Queen inhibits/ threats along columns\n",
    "        if ??? == j:\n",
    "            mask[:, ???] = True\n",
    "    # Queen does not threaten itself\n",
    "    mask[i, j] = ???\n",
    "    return mask\n",
    "```"
   ]
  },
  {
   "attachments": {},
   "cell_type": "markdown",
   "metadata": {},
   "source": [
    "2. Execute the following code to test your implementation of `get_queen_moves()`. For an 8x8 board and the 10th presynaptic neuron, the result should look as in the image below. Yellow squares are the inhibitory connections to other neurons.\n",
    "\n",
    "```Python\n",
    "def plot_board(board):\n",
    "    \"\"\"Plots the array in checkerboard style.\"\"\"\n",
    "    fig, ax = plt.subplots()\n",
    "    ax.imshow(board, origin='lower')\n",
    "    ax.set_xticks(np.arange(-0.5, N+0.5, 1))\n",
    "    ax.set_yticks(np.arange(-0.5, N+0.5, 1))\n",
    "    ax.set_xticklabels([])\n",
    "    ax.set_yticklabels([])\n",
    "    ax.grid()\n",
    "    plt.show()\n",
    "\n",
    "N = 8  # chess board width / height\n",
    "plot_board(get_queen_moves(pre_idx=10, pop_size=N**2))\n",
    "```\n",
    "<img src=https://i.ibb.co/vL9J9Sy/01-n-queens-moves.png>"
   ]
  },
  {
   "cell_type": "markdown",
   "metadata": {},
   "source": [
    "## Exercise 4 - Putting Things Together\n",
    "Now, let's finally start to put all things together and simulate the neurons."
   ]
  },
  {
   "cell_type": "markdown",
   "metadata": {},
   "source": [
    "1. First, complete the code below with your solutions from Exercise 2.\n",
    "\n",
    "```Python \n",
    "start_scope()  # brian wants to now the scope\n",
    "defaultclock.dt = 0.001*second  # simulation timesteps -> accuracy vs. speed trade-off\n",
    "T = 5  # simulation time\n",
    "noise_rate = ???*Hz  # noisy input \n",
    "noise_weight = ???  # noise connection strength\n",
    "exc_weight = ??? * noise_weight  # excitatory connection strength\n",
    "inh_weight = ??? * noise_weight  # inhibitory connection strength\n",
    "tau = 30*ms  # time constant -> spikes decay with 1/tau\n",
    "\n",
    "## create populations\n",
    "# create a population that represents the squares on a chess board\n",
    "board = ???\n",
    "                    \n",
    "board.v = ??? # initialize all neurons a bit differently\n",
    "\n",
    "# create a population for noisy, uncorrelated input\n",
    "noise_pop = ???\n",
    "\n",
    "## create connections\n",
    "# all neurons get a noisy input\n",
    "noise_syn = Synapses(noise_pop, board, on_pre='???')\n",
    "noise_syn.connect(???)\n",
    "\n",
    "# all neurons are self-excitatory\n",
    "e_syn = Synapses(board, board,  on_pre='???')\n",
    "e_syn.connect(???)\n",
    "\n",
    "# inhibitory connections represent the possible moves of the queen\n",
    "inh_syn = Synapses(board, board,  on_pre='v???=inh_weight')\n",
    "for pre_idx in range(N**2):\n",
    "    # \"place one queen at a time\" to initialize connectivity\n",
    "    post_array = np.where(get_queen_moves(???, ???).flatten())[0]\n",
    "    inh_syn.connect(i=???, j=post_array)\n",
    "```"
   ]
  },
  {
   "cell_type": "markdown",
   "metadata": {},
   "source": [
    "2. Check wether the inhibitory synapses are correctly connected. Here's a function to visualize it (from brian2's tutorial on synapses). Run the code below. With N=4 it should create the pattern as in the image below. You can use it to visualize `exc_syn` or `noise_syn` as well.\n",
    "\n",
    "```Python\n",
    "def visualise_connectivity(S):\n",
    "    \"\"\"Visualize the connectivity S (for Synapses).\n",
    "    Adapted from the Tutorial 2-intro-to-brian-synapses.ipynb.\n",
    "    \"\"\"\n",
    "    %matplotlib inline\n",
    "    Ns = len(S.source)\n",
    "    Nt = len(S.target)\n",
    "    figure(figsize=(10, 4))\n",
    "    subplot(121)\n",
    "    plot(zeros(Ns), arange(Ns), 'ok', ms=10)\n",
    "    plot(ones(Nt), arange(Nt), 'ok', ms=10)\n",
    "    for i, j in zip(S.i, S.j):\n",
    "        plot([0, 1], [i, j], '-k')\n",
    "    xticks([0, 1], ['Source', 'Target'])\n",
    "    ylabel('Neuron index')\n",
    "    xlim(-0.1, 1.1)\n",
    "    ylim(-1, max(Ns, Nt))\n",
    "    subplot(122)\n",
    "    plot(S.i, S.j, 'ok')\n",
    "    xlim(-1, Ns)\n",
    "    ylim(-1, Nt)\n",
    "    xlabel('Source neuron index')\n",
    "    ylabel('Target neuron index')\n",
    "    \n",
    "visualise_connectivity(inh_syn)\n",
    "```\n",
    "\n",
    "<img src=\"https://i.ibb.co/dm7F9XH/02-n-queens-pattern.png\">"
   ]
  },
  {
   "cell_type": "markdown",
   "metadata": {},
   "source": [
    "3. Create monitors. Brian2's `StateMonitor` and `SpikeMonitor` can generically store the variables of interest. Let's monitor the membrane potential `v` and spikes of the \"board\". Hint: search in the [official tutorials](https://brian2.readthedocs.io/en/stable/resources/tutorials/index.html) for `StateMonitor` and `SpikeMonitor` to find out how to do that. Finally, run the simulation by executing the last line (make sure that the scope is correct, you might want to copy the code from 4.1 into the same cell):\n",
    "```Python\n",
    "spike_monitor = SpikeMonitor(???)\n",
    "state_monitor = StateMonitor(???)\n",
    "run(T*second)\n",
    "```"
   ]
  },
  {
   "cell_type": "markdown",
   "metadata": {},
   "source": [
    "## Exercise 5 - Visualizing the Results\n",
    "Here comes the fun part. We have prepared some functions for visualization where you can simply plug the state- and spikemonitor into. \n",
    "\n",
    "1. Use the function `plot_potentials()` for visualizing every neurons membrane potential on an $N\\times N$ grid. What do you observe? Can you explain it?\n",
    "```Python\n",
    "def plot_potentials(state_monitor):\n",
    "    \"\"\"Plots the membrane potentials\"\"\"\n",
    "    %matplotlib inline\n",
    "    N2, steps = state_monitor.v.shape\n",
    "    N = int(np.sqrt(N2))\n",
    "    v = state_monitor.v.reshape(N, N, steps)\n",
    "    time = np.arange(0, T, defaultclock.dt.item())\n",
    "    for row in range(N):\n",
    "        for column in range(N):\n",
    "            ax = plt.subplot2grid((N, N), (row, column))\n",
    "            ax.plot(time, v[row, column])\n",
    "            ax.axis('off')\n",
    "    plt.show()\n",
    "```"
   ]
  },
  {
   "cell_type": "markdown",
   "metadata": {},
   "source": [
    "2. Use the second function, `plot_board_temporal()`, for visualizing activity temporally as a \"video\". What can you control with the function parameters `active_only` and `every_nth`? Can we read the solution from the video?\n",
    "\n",
    "```Python\n",
    "def get_board_temporal(spike_monitor):\n",
    "    \"\"\"Returns array of shape (timesteps, N, N).\"\"\"\n",
    "    board_t = np.zeros([int(T/defaultclock.dt.item()), N**2])\n",
    "    for neuron, spikes in spike_monitor.all_values()['t'].items():\n",
    "        for spike_t in spikes:\n",
    "            time_idx = int(spike_t/defaultclock.dt.item())\n",
    "            board_t[time_idx, neuron] = 1\n",
    "    board_t = board_t.reshape(-1, N, N)\n",
    "    return board_t\n",
    "\n",
    "def plot_board_temporal(spike_monitor, every_nth=10, active_only=True):\n",
    "    \"\"\"Plots the spikes successively.\n",
    "    \n",
    "    Args:\n",
    "        every_nth (int): plot every n-th (temporally) checkerboard.\n",
    "        spikes_only (bool): if True, plots only checkerboards with activity.\n",
    "    \"\"\"\n",
    "    %matplotlib notebook\n",
    "    board_t = get_board_temporal(spike_monitor)\n",
    "    fig, ax = plt.subplots(figsize=[4, 4])\n",
    "    #ax.axis('off')\n",
    "    ax.set_xticks(np.arange(-0.5, N+0.5, 1))\n",
    "    ax.set_yticks(np.arange(-0.5, N+0.5, 1))\n",
    "    ax.set_xticklabels([])\n",
    "    ax.set_yticklabels([])\n",
    "    ax.grid()\n",
    "    img = ax.imshow(board_t[0])\n",
    "    img.norm.vmin=0.\n",
    "    img.norm.vmax=1.\n",
    "    _any = any if active_only else lambda x: True\n",
    "    for i, board in enumerate(board_t[1::]):\n",
    "        if _any(board) and i%every_nth==0:\n",
    "            img.set_data(board)\n",
    "            fig.canvas.draw()\n",
    "```"
   ]
  },
  {
   "cell_type": "markdown",
   "metadata": {},
   "source": [
    "3. Finally, we would like to see the solution to the n-Queens problem at a single glance. Run the function `plot_solution()` below. Is it a valid solution? Do we always get a valid solutions if we rerun the simulation? Are there other ways then by ranking the temporal mean activity? What assumption does this evaluation rely on?\n",
    "\n",
    "```Python \n",
    "def plot_solution(spike_monitor, bestN=True):\n",
    "    \"\"\"Plots the spike frequency per neuron.\"\"\"\n",
    "    %matplotlib inline\n",
    "    board_t = get_board_temporal(spike_monitor)\n",
    "    board = board_t.mean(axis=0)\n",
    "    if bestN:\n",
    "        _board = board.flatten()\n",
    "        _board.sort()\n",
    "        _min = _board[::-1][N-1]\n",
    "        board[board<_min] = 0\n",
    "    plot_board(board)\n",
    "```"
   ]
  }
 ],
 "metadata": {
  "kernelspec": {
   "display_name": "Python 3",
   "language": "python",
   "name": "python3"
  },
  "language_info": {
   "codemirror_mode": {
    "name": "ipython",
    "version": 3
   },
   "file_extension": ".py",
   "mimetype": "text/x-python",
   "name": "python",
   "nbconvert_exporter": "python",
   "pygments_lexer": "ipython3",
   "version": "3.5.6"
  }
 },
 "nbformat": 4,
 "nbformat_minor": 2
}
