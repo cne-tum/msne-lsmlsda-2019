{
 "cells": [
  {
   "cell_type": "markdown",
   "metadata": {},
   "source": [
    "# Oja's Hebbian Learning Rule\n",
    "\n",
    "- See [Neuronal Dynamics by Gerstner - Chapter 19 Section 2](http://neuronaldynamics.epfl.ch/online/Ch19.S2.html#SS1.p6) on the learning rule of Oja.\n",
    "\n",
    "\n",
    "- The exercise is adapted from [here](https://neuronaldynamics-exercises.readthedocs.io/en/latest/exercises/ojas-rule.html).\n",
    "\n",
    "<img src=https://neuronaldynamics-exercises.readthedocs.io/en/latest/_images/Oja_cloud.png width=\"500\">\n",
    "<i><center>Grey points: Datapoints (two presynaptic firing rates, presented sequentially in random order). Colored points: weight change under Oja's rule.</center></i>"
   ]
  },
  {
   "cell_type": "markdown",
   "metadata": {},
   "source": [
    "**Python classes**\n",
    "\n",
    "The `ojas_rule.oja` module contains all code required for this exercise. At the beginning of your exercise solution file, import the contained functions by\n",
    "\n",
    "``` python\n",
    "import neurodynex.ojas_rule.oja as oja\n",
    "```\n",
    "\n",
    "You can then simply run the exercise functions by executing, e.g.\n",
    "\n",
    "``` python\n",
    "cloud = oja.make_cloud()  # generate data points\n",
    "wcourse = oja.learn(cloud)  # learn weights and return timecourse\n",
    "```\n",
    "\n",
    "A complete script using these functions could look like this:\n",
    "\n",
    "``` python\n",
    "%matplotlib inline  # used for Jupyter Notebook\n",
    "import neurodynex.ojas_rule.oja as oja\n",
    "import matplotlib.pyplot as plt\n",
    "\n",
    "cloud = oja.make_cloud(n=200, ratio=.3, angle=60)\n",
    "wcourse = oja.learn(cloud, initial_angle=-20, eta=0.04)\n",
    "plt.scatter(cloud[:, 0], cloud[:, 1], marker=\".\", alpha=.2)\n",
    "plt.plot(wcourse[-1, 0], wcourse[-1, 1], \"or\", markersize=10)\n",
    "plt.axis('equal')\n",
    "plt.figure()\n",
    "plt.plot(wcourse[:, 0], \"g\")\n",
    "plt.plot(wcourse[:, 1], \"b\")\n",
    "print(\"The final weight vector w is: ({},{})\".format(wcourse[-1,0],wcourse[-1,1]))\n",
    "```"
   ]
  },
  {
   "cell_type": "code",
   "execution_count": 1,
   "metadata": {},
   "outputs": [],
   "source": [
    "%matplotlib inline\n",
    "import neurodynex.ojas_rule.oja as oja\n",
    "import matplotlib.pyplot as plt"
   ]
  },
  {
   "cell_type": "markdown",
   "metadata": {},
   "source": [
    "## Exercise 1 - Getting Started\n",
    "\n",
    "The figure below shows the configuration of a neuron learning from the joint input of two presynaptic neurons.\n",
    "\n",
    "<img src=https://neuronaldynamics-exercises.readthedocs.io/en/latest/_images/Oja_setup.png width=\"500\">\n",
    "<i><center>One linear neuron gets input from two presynaptic neurons.</center></i>\n",
    "\n",
    "**The norm of the weights.**\n",
    "\n",
    "1.   After you have read the docstring of `oja.make_cloud()` and `oja_lean()` you can run the script from above with a large learning rate eta = 0.2. What do you observe?"
   ]
  },
  {
   "cell_type": "markdown",
   "metadata": {},
   "source": [
    "2.   Modify the script: plot the time course of the norm of the weights vector."
   ]
  },
  {
   "cell_type": "markdown",
   "metadata": {},
   "source": [
    "## Exercise 2 - Circular data\n",
    "\n",
    "Now we study Oja's rule on a data set which has no correlations. \n",
    "\n",
    "1. Use the functions `make_cloud` and `learn` to get the timecourse for weights that are learned on a **circular** data cloud (`ratio=1`). Plot the time course of both components of the weight vector. Repeat this many times (`learn` will choose random initial conditions on each run), and plot this into the same plot. Can you explain what happens? Try different learning rates eta."
   ]
  },
  {
   "cell_type": "markdown",
   "metadata": {},
   "source": [
    "## Exercise 3 - What is the neuron learning?\n",
    "\n",
    "1. Repeat the previous question with an **elongated** elliptic data cloud (e.g. `ratio=0.3`). Again, repeat this several times."
   ]
  },
  {
   "cell_type": "markdown",
   "metadata": {},
   "source": [
    "2.   What difference in terms of learning do you observe with respect to the circular data clouds?"
   ]
  },
  {
   "cell_type": "markdown",
   "metadata": {},
   "source": [
    "3.   The \"goal\" of the neuron is not to change weights, but to produce a meaningful output y. After learning, what does the output y tell about the input?"
   ]
  },
  {
   "cell_type": "markdown",
   "metadata": {},
   "source": [
    "4.   Take the final weights $[w_{31}, w_{32}]$, then calculate a single input vector ($v_1$=?, $v_2$=?) that leads to a **maximal** output firing $y$. Constrain your input to norm([$v_1$,$v_2$]) =1."
   ]
  },
  {
   "cell_type": "markdown",
   "metadata": {},
   "source": [
    "5.   Calculate an input which leads to a **minimal** output firing y."
   ]
  },
  {
   "cell_type": "markdown",
   "metadata": {},
   "source": [
    "## Exercise 4 - Non-centered data\n",
    "\n",
    "The above exercises assume that the input activities can be negative (indeed the inputs were always statistically centered). In actual neurons, if we think of their activity as their firing rate, this cannot be less than zero.\n",
    "\n",
    "1. Try again the previous exercise, but applying the learning rule on a noncentered data cloud. E.g., use `cloud = (3,5) + oja.make_cloud(n=1000, ratio=.4, angle=-45)`, which centers the data around `(3,5)`. What conclusions can you draw? Can you think of a modification to the learning rule?"
   ]
  },
  {
   "cell_type": "markdown",
   "metadata": {},
   "source": [
    "## Exercise 5 - Bonus: 3D\n",
    "\n",
    "By modifying the source code of the given functions, try to visualize learning from a 3 dimensional time series. Here's an example of a 3D scatter plot: [scatter3d](http://matplotlib.org/examples/mplot3d/scatter3d_demo.html)\n",
    "\n",
    "\n",
    "<img src=https://neuronaldynamics-exercises.readthedocs.io/en/latest/_images/Oja_3D.png width=\"500\">\n",
    "<i><center>Learning from a 3D input.</center></i>"
   ]
  }
 ],
 "metadata": {
  "kernelspec": {
   "display_name": "Python 3",
   "language": "python",
   "name": "python3"
  },
  "language_info": {
   "codemirror_mode": {
    "name": "ipython",
    "version": 3
   },
   "file_extension": ".py",
   "mimetype": "text/x-python",
   "name": "python",
   "nbconvert_exporter": "python",
   "pygments_lexer": "ipython3",
   "version": "3.5.6"
  }
 },
 "nbformat": 4,
 "nbformat_minor": 2
}
