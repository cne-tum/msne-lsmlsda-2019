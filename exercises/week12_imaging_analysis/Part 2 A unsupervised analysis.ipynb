{
 "cells": [
  {
   "cell_type": "code",
   "execution_count": 73,
   "metadata": {},
   "outputs": [],
   "source": [
    "%matplotlib widget\n",
    "import numpy as np\n",
    "import matplotlib.pyplot as plt\n",
    "import deepdish as dd\n",
    "from pathlib import Path"
   ]
  },
  {
   "cell_type": "markdown",
   "metadata": {},
   "source": [
    "# Load data"
   ]
  },
  {
   "cell_type": "code",
   "execution_count": 74,
   "metadata": {},
   "outputs": [],
   "source": [
    "data_root = Path(\"J:/_Shared/teaching/tum_imaging_analysis/whole_brain\")\n",
    "\n",
    "traces = dd.io.load(str(data_root / \"traces.h5\"))"
   ]
  },
  {
   "cell_type": "code",
   "execution_count": 75,
   "metadata": {},
   "outputs": [
    {
     "data": {
      "application/vnd.jupyter.widget-view+json": {
       "model_id": "fc867e4b42764f71bf00ff043b0a4d93",
       "version_major": 2,
       "version_minor": 0
      },
      "text/plain": [
       "FigureCanvasNbAgg()"
      ]
     },
     "metadata": {},
     "output_type": "display_data"
    },
    {
     "data": {
      "text/plain": [
       "<matplotlib.image.AxesImage at 0x1b2afbb5208>"
      ]
     },
     "execution_count": 75,
     "metadata": {},
     "output_type": "execute_result"
    }
   ],
   "source": [
    "plt.figure()\n",
    "plt.imshow(traces, cmap=\"gray_r\", aspect=\"auto\", vmin=0, vmax=0.5)"
   ]
  },
  {
   "cell_type": "markdown",
   "metadata": {},
   "source": [
    "# Clustering"
   ]
  },
  {
   "cell_type": "code",
   "execution_count": 76,
   "metadata": {},
   "outputs": [],
   "source": [
    "from sklearn.cluster import KMeans"
   ]
  },
  {
   "cell_type": "code",
   "execution_count": 77,
   "metadata": {},
   "outputs": [],
   "source": [
    "from scipy.stats import zscore"
   ]
  },
  {
   "cell_type": "code",
   "execution_count": 78,
   "metadata": {},
   "outputs": [],
   "source": [
    "n_clusters = 8\n",
    "kmeans =  KMeans(n_clusters)"
   ]
  },
  {
   "cell_type": "code",
   "execution_count": 79,
   "metadata": {},
   "outputs": [],
   "source": [
    "trs = np.nan_to_num(zscore(traces, 1))"
   ]
  },
  {
   "cell_type": "code",
   "execution_count": 80,
   "metadata": {},
   "outputs": [],
   "source": [
    "clust_ids = kmeans.fit_predict(trs)"
   ]
  },
  {
   "cell_type": "code",
   "execution_count": null,
   "metadata": {},
   "outputs": [],
   "source": [
    "plt.figure()\n",
    "plt.plot(kmeans.cluster_centers_.T, lw=0.5)\n"
   ]
  },
  {
   "cell_type": "code",
   "execution_count": null,
   "metadata": {},
   "outputs": [],
   "source": [
    "plt.figure()\n",
    "plt.imshow(traces[np.argsort(clust_ids), :], cmap=\"gray_r\", aspect=\"auto\", vmin=0, vmax=0.5)"
   ]
  },
  {
   "cell_type": "markdown",
   "metadata": {},
   "source": [
    "# Principal Components"
   ]
  },
  {
   "cell_type": "code",
   "execution_count": null,
   "metadata": {},
   "outputs": [],
   "source": []
  },
  {
   "cell_type": "markdown",
   "metadata": {},
   "source": [
    "# Display in anatomy"
   ]
  },
  {
   "cell_type": "code",
   "execution_count": null,
   "metadata": {},
   "outputs": [],
   "source": [
    "from numba import jit"
   ]
  },
  {
   "cell_type": "code",
   "execution_count": null,
   "metadata": {},
   "outputs": [],
   "source": [
    "anat = dd.io.load(str(data_root / \"correlation_map.h5\"))"
   ]
  },
  {
   "cell_type": "code",
   "execution_count": null,
   "metadata": {},
   "outputs": [],
   "source": [
    "coords = dd.io.load(str(data_root / \"coords.h5\"))"
   ]
  },
  {
   "cell_type": "code",
   "execution_count": null,
   "metadata": {},
   "outputs": [],
   "source": [
    "from notebook_utilities.display import display_array"
   ]
  },
  {
   "cell_type": "code",
   "execution_count": null,
   "metadata": {},
   "outputs": [],
   "source": [
    "anat_rgb = np.empty(anat.shape+(3,), dtype=np.uint8)"
   ]
  },
  {
   "cell_type": "code",
   "execution_count": null,
   "metadata": {},
   "outputs": [],
   "source": [
    "from utilities import normalise_clip, display_array"
   ]
  },
  {
   "cell_type": "code",
   "execution_count": null,
   "metadata": {},
   "outputs": [],
   "source": [
    "anat_rgb[:, :, :, :] = 255-normalise_clip(anat, wins_min=10)[:, :, :, None]"
   ]
  },
  {
   "cell_type": "code",
   "execution_count": null,
   "metadata": {},
   "outputs": [],
   "source": [
    "import math"
   ]
  },
  {
   "cell_type": "code",
   "execution_count": null,
   "metadata": {},
   "outputs": [],
   "source": [
    "\n",
    "def paint_anatomy(stack, points, color=(230, 40, 0), **kwargs):\n",
    "    color = np.array(color)\n",
    "    return _paint_anatomy_jit(stack, points, color, **kwargs)\n",
    "\n",
    "\n",
    "@jit(nopython=True)\n",
    "def _paint_anatomy_jit(\n",
    "    stack, points, color, kernel=(0.5, 1, 1), kernel_mult=2, minimal_weight=10,\n",
    "):\n",
    "    \"\"\" Extracts traces around points with a Gaussian profile\n",
    "\n",
    "    :param stack: the stack from which the traces are to be extracted\n",
    "    :param points: the points around which to extract the traces, shape\n",
    "        [#points, 3]\n",
    "    :param kernel: the standard deviations for the Gaussian used for weighting\n",
    "    :param kernel_mult: how many standard deviations to take into account\n",
    "    :return: an array with traces\n",
    "    \"\"\"\n",
    "    for ip in range(points.shape[0]):\n",
    "        point = points[ip]\n",
    "\n",
    "        zs = min(\n",
    "            max(int(math.floor(point[0] - kernel[0] * kernel_mult)), 0),\n",
    "            stack.shape[0] - 1,\n",
    "        )\n",
    "        ze = min(\n",
    "            max(int(math.ceil(point[0] + kernel[0] * kernel_mult)), 0),\n",
    "            stack.shape[0] - 1,\n",
    "        )\n",
    "        ys = min(\n",
    "            max(int(math.floor(point[1] - kernel[1] * kernel_mult)), 0),\n",
    "            stack.shape[1] - 1,\n",
    "        )\n",
    "        ye = min(\n",
    "            max(int(math.ceil(point[1] + kernel[1] * kernel_mult)), 0),\n",
    "            stack.shape[1] - 1,\n",
    "        )\n",
    "        xs = min(\n",
    "            max(int(math.floor(point[2] - kernel[2] * kernel_mult)), 0),\n",
    "            stack.shape[2] - 1,\n",
    "        )\n",
    "        xe = min(\n",
    "            max(int(math.ceil(point[2] + kernel[2] * kernel_mult)), 0),\n",
    "            stack.shape[2] - 1,\n",
    "        )\n",
    "\n",
    "        # iterate throught the window in 3 dimensions\n",
    "        for z in range(zs, ze + 1):\n",
    "            for y in range(ys, ye + 1):\n",
    "                for x in range(xs, xe + 1):\n",
    "\n",
    "                    # calculate the weight from the Gaussian\n",
    "                    w = (\n",
    "                        math.exp(-(z - point[0]) ** 2 / (2 * kernel[0]))\n",
    "                        * math.exp(-(y - point[1]) ** 2 / (2 * kernel[1]))\n",
    "                        * math.exp(-(x - point[2]) ** 2 / (2 * kernel[2]))\n",
    "                    )\n",
    "\n",
    "                    stack[z, y, x, :] = stack[z, y, x, :] * (1-w) + color * w\n",
    "    return stack"
   ]
  },
  {
   "cell_type": "code",
   "execution_count": 71,
   "metadata": {},
   "outputs": [
    {
     "data": {
      "text/plain": [
       "array([[[[255, 255, 255],\n",
       "         [255, 255, 255],\n",
       "         [255, 255, 255],\n",
       "         ...,\n",
       "         [255, 255, 255],\n",
       "         [255, 255, 255],\n",
       "         [255, 255, 255]],\n",
       "\n",
       "        [[255, 255, 255],\n",
       "         [102, 102, 102],\n",
       "         [ 66,  66,  66],\n",
       "         ...,\n",
       "         [ 74,  74,  74],\n",
       "         [130, 130, 130],\n",
       "         [255, 255, 255]],\n",
       "\n",
       "        [[255, 255, 255],\n",
       "         [ 82,  82,  82],\n",
       "         [ 39,  39,  39],\n",
       "         ...,\n",
       "         [ 52,  52,  52],\n",
       "         [120, 120, 120],\n",
       "         [255, 255, 255]],\n",
       "\n",
       "        ...,\n",
       "\n",
       "        [[255, 255, 255],\n",
       "         [ 84,  84,  84],\n",
       "         [ 31,  31,  31],\n",
       "         ...,\n",
       "         [ 54,  54,  54],\n",
       "         [112, 112, 112],\n",
       "         [255, 255, 255]],\n",
       "\n",
       "        [[255, 255, 255],\n",
       "         [154, 154, 154],\n",
       "         [140, 140, 140],\n",
       "         ...,\n",
       "         [163, 163, 163],\n",
       "         [178, 178, 178],\n",
       "         [255, 255, 255]],\n",
       "\n",
       "        [[255, 255, 255],\n",
       "         [255, 255, 255],\n",
       "         [255, 255, 255],\n",
       "         ...,\n",
       "         [255, 255, 255],\n",
       "         [255, 255, 255],\n",
       "         [255, 255, 255]]],\n",
       "\n",
       "\n",
       "       [[[255, 255, 255],\n",
       "         [255, 255, 255],\n",
       "         [255, 255, 255],\n",
       "         ...,\n",
       "         [255, 255, 255],\n",
       "         [255, 255, 255],\n",
       "         [255, 255, 255]],\n",
       "\n",
       "        [[255, 255, 255],\n",
       "         [187, 187, 187],\n",
       "         [166, 166, 166],\n",
       "         ...,\n",
       "         [179, 179, 179],\n",
       "         [190, 190, 190],\n",
       "         [255, 255, 255]],\n",
       "\n",
       "        [[255, 255, 255],\n",
       "         [252, 252, 252],\n",
       "         [250, 250, 250],\n",
       "         ...,\n",
       "         [251, 251, 251],\n",
       "         [255, 255, 255],\n",
       "         [255, 255, 255]],\n",
       "\n",
       "        ...,\n",
       "\n",
       "        [[255, 255, 255],\n",
       "         [255, 255, 255],\n",
       "         [233, 233, 233],\n",
       "         ...,\n",
       "         [228, 228, 228],\n",
       "         [222, 222, 222],\n",
       "         [255, 255, 255]],\n",
       "\n",
       "        [[255, 255, 255],\n",
       "         [233, 233, 233],\n",
       "         [227, 227, 227],\n",
       "         ...,\n",
       "         [228, 228, 228],\n",
       "         [230, 230, 230],\n",
       "         [255, 255, 255]],\n",
       "\n",
       "        [[255, 255, 255],\n",
       "         [255, 255, 255],\n",
       "         [255, 255, 255],\n",
       "         ...,\n",
       "         [255, 255, 255],\n",
       "         [255, 255, 255],\n",
       "         [255, 255, 255]]],\n",
       "\n",
       "\n",
       "       [[[255, 255, 255],\n",
       "         [255, 255, 255],\n",
       "         [255, 255, 255],\n",
       "         ...,\n",
       "         [255, 255, 255],\n",
       "         [255, 255, 255],\n",
       "         [255, 255, 255]],\n",
       "\n",
       "        [[255, 255, 255],\n",
       "         [187, 187, 187],\n",
       "         [165, 165, 165],\n",
       "         ...,\n",
       "         [176, 176, 176],\n",
       "         [193, 193, 193],\n",
       "         [255, 255, 255]],\n",
       "\n",
       "        [[255, 255, 255],\n",
       "         [250, 250, 250],\n",
       "         [254, 254, 254],\n",
       "         ...,\n",
       "         [255, 255, 255],\n",
       "         [253, 253, 253],\n",
       "         [255, 255, 255]],\n",
       "\n",
       "        ...,\n",
       "\n",
       "        [[255, 255, 255],\n",
       "         [255, 255, 255],\n",
       "         [238, 238, 238],\n",
       "         ...,\n",
       "         [223, 223, 223],\n",
       "         [223, 223, 223],\n",
       "         [255, 255, 255]],\n",
       "\n",
       "        [[255, 255, 255],\n",
       "         [233, 233, 233],\n",
       "         [229, 229, 229],\n",
       "         ...,\n",
       "         [230, 230, 230],\n",
       "         [230, 230, 230],\n",
       "         [255, 255, 255]],\n",
       "\n",
       "        [[255, 255, 255],\n",
       "         [255, 255, 255],\n",
       "         [255, 255, 255],\n",
       "         ...,\n",
       "         [255, 255, 255],\n",
       "         [255, 255, 255],\n",
       "         [255, 255, 255]]],\n",
       "\n",
       "\n",
       "       ...,\n",
       "\n",
       "\n",
       "       [[[255, 255, 255],\n",
       "         [255, 255, 255],\n",
       "         [255, 255, 255],\n",
       "         ...,\n",
       "         [255, 255, 255],\n",
       "         [255, 255, 255],\n",
       "         [255, 255, 255]],\n",
       "\n",
       "        [[255, 255, 255],\n",
       "         [184, 184, 184],\n",
       "         [163, 163, 163],\n",
       "         ...,\n",
       "         [181, 181, 181],\n",
       "         [191, 191, 191],\n",
       "         [255, 255, 255]],\n",
       "\n",
       "        [[255, 255, 255],\n",
       "         [242, 242, 242],\n",
       "         [251, 251, 251],\n",
       "         ...,\n",
       "         [255, 255, 255],\n",
       "         [255, 255, 255],\n",
       "         [255, 255, 255]],\n",
       "\n",
       "        ...,\n",
       "\n",
       "        [[255, 255, 255],\n",
       "         [255, 255, 255],\n",
       "         [232, 232, 232],\n",
       "         ...,\n",
       "         [225, 225, 225],\n",
       "         [226, 226, 226],\n",
       "         [255, 255, 255]],\n",
       "\n",
       "        [[255, 255, 255],\n",
       "         [232, 232, 232],\n",
       "         [227, 227, 227],\n",
       "         ...,\n",
       "         [228, 228, 228],\n",
       "         [230, 230, 230],\n",
       "         [255, 255, 255]],\n",
       "\n",
       "        [[255, 255, 255],\n",
       "         [255, 255, 255],\n",
       "         [255, 255, 255],\n",
       "         ...,\n",
       "         [255, 255, 255],\n",
       "         [255, 255, 255],\n",
       "         [255, 255, 255]]],\n",
       "\n",
       "\n",
       "       [[[255, 255, 255],\n",
       "         [255, 255, 255],\n",
       "         [255, 255, 255],\n",
       "         ...,\n",
       "         [255, 255, 255],\n",
       "         [255, 255, 255],\n",
       "         [255, 255, 255]],\n",
       "\n",
       "        [[255, 255, 255],\n",
       "         [186, 186, 186],\n",
       "         [164, 164, 164],\n",
       "         ...,\n",
       "         [181, 181, 181],\n",
       "         [190, 190, 190],\n",
       "         [255, 255, 255]],\n",
       "\n",
       "        [[255, 255, 255],\n",
       "         [254, 254, 254],\n",
       "         [248, 248, 248],\n",
       "         ...,\n",
       "         [255, 255, 255],\n",
       "         [255, 255, 255],\n",
       "         [255, 255, 255]],\n",
       "\n",
       "        ...,\n",
       "\n",
       "        [[255, 255, 255],\n",
       "         [255, 255, 255],\n",
       "         [236, 236, 236],\n",
       "         ...,\n",
       "         [229, 229, 229],\n",
       "         [224, 224, 224],\n",
       "         [255, 255, 255]],\n",
       "\n",
       "        [[255, 255, 255],\n",
       "         [233, 233, 233],\n",
       "         [230, 230, 230],\n",
       "         ...,\n",
       "         [229, 229, 229],\n",
       "         [230, 230, 230],\n",
       "         [255, 255, 255]],\n",
       "\n",
       "        [[255, 255, 255],\n",
       "         [255, 255, 255],\n",
       "         [255, 255, 255],\n",
       "         ...,\n",
       "         [255, 255, 255],\n",
       "         [255, 255, 255],\n",
       "         [255, 255, 255]]],\n",
       "\n",
       "\n",
       "       [[[255, 255, 255],\n",
       "         [255, 255, 255],\n",
       "         [255, 255, 255],\n",
       "         ...,\n",
       "         [255, 255, 255],\n",
       "         [255, 255, 255],\n",
       "         [255, 255, 255]],\n",
       "\n",
       "        [[255, 255, 255],\n",
       "         [181, 181, 181],\n",
       "         [161, 161, 161],\n",
       "         ...,\n",
       "         [178, 178, 178],\n",
       "         [190, 190, 190],\n",
       "         [255, 255, 255]],\n",
       "\n",
       "        [[255, 255, 255],\n",
       "         [240, 240, 240],\n",
       "         [240, 240, 240],\n",
       "         ...,\n",
       "         [255, 255, 255],\n",
       "         [254, 254, 254],\n",
       "         [255, 255, 255]],\n",
       "\n",
       "        ...,\n",
       "\n",
       "        [[255, 255, 255],\n",
       "         [255, 255, 255],\n",
       "         [237, 237, 237],\n",
       "         ...,\n",
       "         [226, 226, 226],\n",
       "         [225, 225, 225],\n",
       "         [255, 255, 255]],\n",
       "\n",
       "        [[255, 255, 255],\n",
       "         [232, 232, 232],\n",
       "         [228, 228, 228],\n",
       "         ...,\n",
       "         [230, 230, 230],\n",
       "         [230, 230, 230],\n",
       "         [255, 255, 255]],\n",
       "\n",
       "        [[255, 255, 255],\n",
       "         [255, 255, 255],\n",
       "         [255, 255, 255],\n",
       "         ...,\n",
       "         [255, 255, 255],\n",
       "         [255, 255, 255],\n",
       "         [255, 255, 255]]]], dtype=uint8)"
      ]
     },
     "execution_count": 71,
     "metadata": {},
     "output_type": "execute_result"
    }
   ],
   "source": [
    "paint_anatomy(anat_rgb, coords, kernel=(0.8, 3, 3))"
   ]
  },
  {
   "cell_type": "code",
   "execution_count": 72,
   "metadata": {},
   "outputs": [
    {
     "data": {
      "application/vnd.jupyter.widget-view+json": {
       "model_id": "2538c5a4afd34a5eb9667b4536638820",
       "version_major": 2,
       "version_minor": 0
      },
      "text/plain": [
       "interactive(children=(IntSlider(value=17, description='i', max=34), Output()), _dom_classes=('widget-interact'…"
      ]
     },
     "metadata": {},
     "output_type": "display_data"
    },
    {
     "data": {
      "text/plain": [
       "<function utilities.display_array.<locals>.browse(i: (0, 34))>"
      ]
     },
     "execution_count": 72,
     "metadata": {},
     "output_type": "execute_result"
    }
   ],
   "source": [
    "display_array(anat_rgb, vmin=0, invert=False)"
   ]
  },
  {
   "cell_type": "code",
   "execution_count": null,
   "metadata": {},
   "outputs": [],
   "source": []
  }
 ],
 "metadata": {
  "kernelspec": {
   "display_name": "Python 3",
   "language": "python",
   "name": "python3"
  },
  "language_info": {
   "codemirror_mode": {
    "name": "ipython",
    "version": 3
   },
   "file_extension": ".py",
   "mimetype": "text/x-python",
   "name": "python",
   "nbconvert_exporter": "python",
   "pygments_lexer": "ipython3",
   "version": "3.7.3"
  }
 },
 "nbformat": 4,
 "nbformat_minor": 2
}
