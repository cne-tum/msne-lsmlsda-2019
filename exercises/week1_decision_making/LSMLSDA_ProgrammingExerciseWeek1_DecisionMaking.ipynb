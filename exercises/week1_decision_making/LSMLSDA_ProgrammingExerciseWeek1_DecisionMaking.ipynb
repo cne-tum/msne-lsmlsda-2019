{
 "cells": [
  {
   "cell_type": "markdown",
   "metadata": {},
   "source": [
    "# LSMLSDA Programming Exercise Week 1\n",
    "## Modelling decision making with a drift-diffusion model\n",
    "\n",
    "This exercise was kindly provided by Prof. Sprekeler, Modelling of Cognitive Processes Group, BCCN Berlin. \n",
    "\n",
    "\n",
    "We will explore the reaction time distribution of the drift diffusion model\n",
    "for perceptual decision making. \n",
    "\n",
    "Important paper: https://www.ncbi.nlm.nih.gov/pubmed/17600525\n",
    "\n",
    "General information: https://en.wikipedia.org/wiki/Two-alternative_forced_choice"
   ]
  },
  {
   "cell_type": "code",
   "execution_count": 3,
   "metadata": {},
   "outputs": [],
   "source": [
    "# imports \n",
    "import numpy as np\n",
    "from math import *\n",
    "import matplotlib.pyplot as plt"
   ]
  },
  {
   "cell_type": "markdown",
   "metadata": {},
   "source": [
    "### Part 1\n",
    "Our goal is to simulate a decision making process. A very much simplified approach to that is to simulate a biased random walk: We simulate an internal decision variable, e.g., some neural activity, using a single scalar variable. At every time step, the variable evolves in a certain direction due to sensory evidence for a decision in that direction (drift, $\\mu$), plus noise (diffusion, $\\sigma$). Such a model is often called a drift-diffusion model. A simple form of the drift diffusion model is given by\n",
    "\n",
    "$$\n",
    "dX = \\mu \\mathrm{dt} + \\sigma \\mathrm{dW} ,\n",
    "$$\n",
    "\n",
    "To simulate the decision making process as a drift-diffusion process we have to integrate this equation. Because it is a stochastic differential equation (sde) we cant use standard implementation like scipy odeint for integration. Therefore, your first task is to implement your own Euler-Marayuma sde solver.\n",
    "\n",
    "Euler-Maruyama is an extension of the simple Euler method to stochastic differential equations where we here only consider Gaussian noise processes. Euler-Maruyama\n",
    "integrates differential equations of the form\n",
    "\n",
    "\\begin{align}\n",
    "dX(t) &= f(X(t))\\mathrm{dt} + g(X(t))\\mathrm{dW}(t)\n",
    "\\end{align}\n",
    "\n",
    "here f (X(t)) is the deterministic part of the differential equation and g(X(t))dW (t) is\n",
    "the stochastic part where dW (t) is a random variable. Euler-Maruyama consists of the\n",
    "following update which your function has to implement:\n",
    "\n",
    "\\begin{align}\n",
    "X_t = X_{t-1} + f(X_{t-1}) \\Delta t + g(X_{t-1}) \\sqrt{\\Delta t} W_t\n",
    "\\end{align}\n",
    "\n",
    "Each $W_t$ is a sample from a standard normal distribution. For more information about\n",
    "Euler-Maruyama see Higham (2001), or Wikipedia.\n",
    "Write a function euler_maruyama(ffun, gfun, x0, t, \\**args) which implements this equation\n",
    "and which behaves like scipy odeint. Note that we have defined args as a dictionary which differs\n",
    "from scipy odeint where args is a tuple. This makes it easier to change individual parameters of\n",
    "the model functions later.\n",
    "\n",
    "Start with $X = 0$. Choose\n",
    "$\\sigma = 0.5, \\mu = 0.2$. Run 5 simulations of 10 seconds length with $dt = 0.01s$ and\n",
    "plot the results.\n",
    "\n",
    "**Hint**: A single simulation is a trace of values starting at X=0 and evolving as a random walk with a drift towards more positive (or negative) values. Plot all 5 traces in a single plot with different colors. "
   ]
  },
  {
   "cell_type": "code",
   "execution_count": 4,
   "metadata": {},
   "outputs": [],
   "source": [
    "# your code "
   ]
  },
  {
   "cell_type": "code",
   "execution_count": 1,
   "metadata": {},
   "outputs": [],
   "source": [
    "# ..."
   ]
  },
  {
   "cell_type": "markdown",
   "metadata": {},
   "source": [
    "### Part 2\n",
    "\n",
    "Plot the percentage of ”up” (X=+a) responses as a function of the drift μ by\n",
    "simulating 200 trials for a = 1 and the following $\\mu$ values: −0.1, 0, 0.1, 0.2, 0.5.\n",
    "\n",
    "Resimulate trials in which no decision boundary is reached during the simulation.\n",
    "\n",
    "Plot the results. What happens to this curve if you double, what if you halve the\n",
    "value of a?\n"
   ]
  },
  {
   "cell_type": "code",
   "execution_count": 5,
   "metadata": {},
   "outputs": [],
   "source": [
    "# your code"
   ]
  },
  {
   "cell_type": "code",
   "execution_count": 10,
   "metadata": {},
   "outputs": [],
   "source": [
    "# ..."
   ]
  },
  {
   "cell_type": "markdown",
   "metadata": {},
   "source": [
    "### Part 3\n",
    "\n",
    "Use the results from the last exercise to pick a value of $\\mu$ (with $\\sigma = 0.5$) for which\n",
    "about $70\\%$ of the trials result in an ”up” response. Run 2000 trials and record the\n",
    "reaction times, i.e. the moment when the decision variable X crosses one of the\n",
    "two decision thresholds at X = ±a (for a = 1), as well as the choice, i.e. which of\n",
    "the boundaries was hit."
   ]
  },
  {
   "cell_type": "code",
   "execution_count": 6,
   "metadata": {},
   "outputs": [],
   "source": [
    "# your code"
   ]
  },
  {
   "cell_type": "code",
   "execution_count": 10,
   "metadata": {},
   "outputs": [],
   "source": [
    "# ..."
   ]
  },
  {
   "cell_type": "markdown",
   "metadata": {},
   "source": [
    "### Part 4\n",
    "\n",
    "Plot a histogram of the reaction times for each of the choices separately, and\n",
    "compare the distributions. Calculate their individual mean reaction times and\n",
    "discuss whether (and why) this is what you would have expected.\n",
    "\n",
    "Can you reproduce qualitatively figure 5b of Gold and Shadlen (2007): increase motion strength (loosely speaking increased drift $\\mu$) results in higher percentage correct and reduced mean reaction times?  "
   ]
  },
  {
   "cell_type": "code",
   "execution_count": 8,
   "metadata": {},
   "outputs": [],
   "source": [
    "# your code "
   ]
  },
  {
   "cell_type": "code",
   "execution_count": 10,
   "metadata": {},
   "outputs": [],
   "source": [
    "# ..."
   ]
  },
  {
   "cell_type": "markdown",
   "metadata": {},
   "source": [
    "### Part 5\n",
    "\n",
    "Implement an extended version of the drift-diffusion model, in which the drift $\\mu$\n",
    "for each trial is drawn from a Gaussian distribution with mean $m_{\\mu}$ and standard\n",
    "deviation $s_{\\mu}$ . Find values for $m_{\\mu}$ and $s_{\\mu}$ that keep $70\\%$ ”up” rate but have reaction\n",
    "time distributions that (qualitatively) fit experimental results better. Plot your\n",
    "resulting distributions and mean reaction times for ”up” and ”down” responses\n",
    "from 2000 trials."
   ]
  },
  {
   "cell_type": "code",
   "execution_count": null,
   "metadata": {},
   "outputs": [],
   "source": []
  }
 ],
 "metadata": {
  "kernelspec": {
   "display_name": "Python 3",
   "language": "python",
   "name": "python3"
  },
  "language_info": {
   "codemirror_mode": {
    "name": "ipython",
    "version": 3
   },
   "file_extension": ".py",
   "mimetype": "text/x-python",
   "name": "python",
   "nbconvert_exporter": "python",
   "pygments_lexer": "ipython3",
   "version": "3.5.6"
  }
 },
 "nbformat": 4,
 "nbformat_minor": 2
}
